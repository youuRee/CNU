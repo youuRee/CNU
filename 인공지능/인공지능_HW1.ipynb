{
  "nbformat": 4,
  "nbformat_minor": 0,
  "metadata": {
    "colab": {
      "provenance": [],
      "toc_visible": true
    },
    "kernelspec": {
      "name": "python3",
      "display_name": "Python 3"
    },
    "language_info": {
      "name": "python"
    }
  },
  "cells": [
    {
      "cell_type": "code",
      "execution_count": null,
      "metadata": {
        "colab": {
          "base_uri": "https://localhost:8080/"
        },
        "id": "5KFQtESvsLaq",
        "outputId": "7cfe2a90-8283-49e0-dff5-c60ffee6ddeb"
      },
      "outputs": [
        {
          "output_type": "stream",
          "name": "stdout",
          "text": [
            "[2 4 6]\n"
          ]
        }
      ],
      "source": [
        "# 1번\n",
        "import numpy as np\n",
        "my_vector = np.array([1, 2, 3, 4, 5, 6])\n",
        "selection = my_vector % 2 == 0\n",
        "print(my_vector[selection])"
      ]
    },
    {
      "cell_type": "code",
      "source": [
        "# 2번\n",
        "import numpy as np\n",
        "first_matrix = np.array([[1, 2, 3], [4, 5, 6]])\n",
        "second_matrix = np.array([1, 2, 3])\n",
        "print(first_matrix + second_matrix)"
      ],
      "metadata": {
        "colab": {
          "base_uri": "https://localhost:8080/"
        },
        "id": "tsi3dywhuKKq",
        "outputId": "50dae5f8-e9fa-40f0-ebe2-702226355214"
      },
      "execution_count": null,
      "outputs": [
        {
          "output_type": "stream",
          "name": "stdout",
          "text": [
            "[[2 4 6]\n",
            " [5 7 9]]\n"
          ]
        }
      ]
    },
    {
      "cell_type": "code",
      "source": [
        "# 3번\n",
        "vector = np.zeros(10)\n",
        "vector[4] = 1\n",
        "print(vector)"
      ],
      "metadata": {
        "id": "5oznY8JT3yq4",
        "colab": {
          "base_uri": "https://localhost:8080/"
        },
        "outputId": "f1bce091-09f0-4080-ca32-cb853f59d11c"
      },
      "execution_count": null,
      "outputs": [
        {
          "output_type": "stream",
          "name": "stdout",
          "text": [
            "[0. 0. 0. 0. 1. 0. 0. 0. 0. 0.]\n"
          ]
        }
      ]
    },
    {
      "cell_type": "code",
      "source": [
        "# 4번\n",
        "array = np.arange(10, 20)\n",
        "print(array)"
      ],
      "metadata": {
        "colab": {
          "base_uri": "https://localhost:8080/"
        },
        "id": "aG8x7wbG4MB5",
        "outputId": "6eefd09b-86ca-4aae-a9be-713f6831d59d"
      },
      "execution_count": null,
      "outputs": [
        {
          "output_type": "stream",
          "name": "stdout",
          "text": [
            "[10 11 12 13 14 15 16 17 18 19]\n"
          ]
        }
      ]
    },
    {
      "cell_type": "code",
      "source": [
        "# 5번\n",
        "import numpy as np\n",
        "array = np.arange(10)\n",
        "print(array)\n",
        "print(array[:2:-1])"
      ],
      "metadata": {
        "colab": {
          "base_uri": "https://localhost:8080/"
        },
        "id": "_qrjZDHF4MET",
        "outputId": "85888b6b-f2b6-4eb8-d36d-809b92545d06"
      },
      "execution_count": null,
      "outputs": [
        {
          "output_type": "stream",
          "name": "stdout",
          "text": [
            "[0 1 2 3 4 5 6 7 8 9]\n",
            "[9 8 7 6 5 4 3]\n"
          ]
        }
      ]
    },
    {
      "cell_type": "code",
      "source": [
        "# 6번\n",
        "metrix = np.array([0, 1, 2, 3, 4, 5, 6, 7, 8,]).reshape(3, 3)\n",
        "print(metrix)"
      ],
      "metadata": {
        "colab": {
          "base_uri": "https://localhost:8080/"
        },
        "id": "aZDeNxNB4MJ6",
        "outputId": "9ab61546-217d-4ed4-c331-01897af4b8de"
      },
      "execution_count": null,
      "outputs": [
        {
          "output_type": "stream",
          "name": "stdout",
          "text": [
            "[[0 1 2]\n",
            " [3 4 5]\n",
            " [6 7 8]]\n"
          ]
        }
      ]
    },
    {
      "cell_type": "code",
      "source": [
        "# 7번\n",
        "metrix = np.random.rand(3, 3)\n",
        "print(metrix)"
      ],
      "metadata": {
        "colab": {
          "base_uri": "https://localhost:8080/"
        },
        "id": "IWsiG7ME547P",
        "outputId": "fcfc431b-aaec-4220-def6-e28813014283"
      },
      "execution_count": null,
      "outputs": [
        {
          "output_type": "stream",
          "name": "stdout",
          "text": [
            "[[0.22891513 0.99217215 0.99929394]\n",
            " [0.89675577 0.77808231 0.80973214]\n",
            " [0.84504542 0.07562451 0.57436113]]\n"
          ]
        }
      ]
    },
    {
      "cell_type": "code",
      "source": [
        "# 8번\n",
        "array = np.random.rand(10, 10)\n",
        "min_arr = array.min()\n",
        "max_arr = array.max()\n",
        "print(\"최소값 = \", min_arr, \"최대값 = \", max_arr)"
      ],
      "metadata": {
        "colab": {
          "base_uri": "https://localhost:8080/"
        },
        "id": "tc8dOImV549-",
        "outputId": "cbbc0d2d-63a0-4e11-c983-183ce2000b71"
      },
      "execution_count": null,
      "outputs": [
        {
          "output_type": "stream",
          "name": "stdout",
          "text": [
            "최소값 =  0.01243364805442515 최대값 =  0.9985196616134825\n"
          ]
        }
      ]
    },
    {
      "cell_type": "code",
      "source": [
        "# 9번\n",
        "array = np.ones(shape=(3, 3))\n",
        "array[1:-1, 1:-1] = 0\n",
        "print(array)"
      ],
      "metadata": {
        "colab": {
          "base_uri": "https://localhost:8080/"
        },
        "id": "FzEHcx3t55AR",
        "outputId": "363119ac-dc11-409f-ff97-fd2d4fbfeffb"
      },
      "execution_count": null,
      "outputs": [
        {
          "output_type": "stream",
          "name": "stdout",
          "text": [
            "[[1. 1. 1.]\n",
            " [1. 0. 1.]\n",
            " [1. 1. 1.]]\n"
          ]
        }
      ]
    },
    {
      "cell_type": "code",
      "source": [
        "# 10번\n",
        "array = np.zeros(shape=(5, 5))\n",
        "array[1::2, ::2] = 1\n",
        "array[::2, 1::2] = 1\n",
        "print(array)"
      ],
      "metadata": {
        "colab": {
          "base_uri": "https://localhost:8080/"
        },
        "id": "TwvqgSxs55CY",
        "outputId": "061810c7-e208-4691-f5a8-ad273331d59c"
      },
      "execution_count": null,
      "outputs": [
        {
          "output_type": "stream",
          "name": "stdout",
          "text": [
            "[[0. 1. 0. 1. 0.]\n",
            " [1. 0. 1. 0. 1.]\n",
            " [0. 1. 0. 1. 0.]\n",
            " [1. 0. 1. 0. 1.]\n",
            " [0. 1. 0. 1. 0.]]\n"
          ]
        }
      ]
    },
    {
      "cell_type": "code",
      "source": [
        "# 11번\n",
        "metrix = np.random.rand(3, 3)\n",
        "mean = np.mean(metrix)\n",
        "std = np.std(metrix)\n",
        "new_metrix = (metrix - mean) / std\n",
        "print(new_metrix)"
      ],
      "metadata": {
        "colab": {
          "base_uri": "https://localhost:8080/"
        },
        "id": "enY54P-S95bh",
        "outputId": "cb5ea666-1f87-4da5-a86b-566b662f1514"
      },
      "execution_count": null,
      "outputs": [
        {
          "output_type": "stream",
          "name": "stdout",
          "text": [
            "[[-0.38162762 -0.80649443  1.02127497]\n",
            " [-1.40678736  0.60867509  1.2717785 ]\n",
            " [-1.55385187  0.65487711  0.59215561]]\n"
          ]
        }
      ]
    },
    {
      "cell_type": "code",
      "source": [
        "# 12번\n",
        "vector = np.arange(10)\n",
        "vector[5:9] = vector[5:9] * -1\n",
        "print(vector)"
      ],
      "metadata": {
        "colab": {
          "base_uri": "https://localhost:8080/"
        },
        "id": "WuaFLSTW95dz",
        "outputId": "7bd8adb1-8576-45a6-faee-b8cf16e25461"
      },
      "execution_count": null,
      "outputs": [
        {
          "output_type": "stream",
          "name": "stdout",
          "text": [
            "[ 0  1  2  3  4 -5 -6 -7 -8  9]\n"
          ]
        }
      ]
    },
    {
      "cell_type": "code",
      "source": [
        "# 13번\n",
        "array = np.arange(0, 9).reshape(3, 3)\n",
        "# array = np.array([0, 1, 2, 3, 4, 5, 6, 7, 8]).reshape(3, 3)\n",
        "print(\"원본 배열:\")\n",
        "print(array)\n",
        "print(\"모든 요소의 합: \", np.sum(array))\n",
        "print(\"각 열의 합: \", np.sum(array, axis=0))\n",
        "print(\"각 행의 합: \", np.sum(array, axis=1))"
      ],
      "metadata": {
        "colab": {
          "base_uri": "https://localhost:8080/"
        },
        "id": "t5DTd9_v95m8",
        "outputId": "3dcca0f5-9e46-4688-b0d5-62c262630e9b"
      },
      "execution_count": null,
      "outputs": [
        {
          "output_type": "stream",
          "name": "stdout",
          "text": [
            "원본 배열:\n",
            "[[0 1 2]\n",
            " [3 4 5]\n",
            " [6 7 8]]\n",
            "모든 요소의 합:  36\n",
            "각 열의 합:  [ 9 12 15]\n",
            "각 행의 합:  [ 3 12 21]\n"
          ]
        }
      ]
    },
    {
      "cell_type": "code",
      "source": [
        "# 14번\n",
        "vector1 = np.array([4, 5])\n",
        "vector2 = np.array([7, 10])\n",
        "print(\"원본 벡터 : \")\n",
        "print(vector1)\n",
        "print(vector2)\n",
        "print(\"벡터의 내적: \", vector1 @ vector2)"
      ],
      "metadata": {
        "colab": {
          "base_uri": "https://localhost:8080/"
        },
        "id": "U4D2zwf_96xp",
        "outputId": "fb659885-ebe5-4420-bd42-e6ab04c1b729"
      },
      "execution_count": null,
      "outputs": [
        {
          "output_type": "stream",
          "name": "stdout",
          "text": [
            "원본 벡터 : \n",
            "[4 5]\n",
            "[ 7 10]\n",
            "벡터의 내적:  78\n"
          ]
        }
      ]
    },
    {
      "cell_type": "code",
      "source": [
        "# 15번\n",
        "import matplotlib.pyplot as plt\n",
        "\n",
        "x = np.arange(0, 13)\n",
        "y = np.array([2, 0, 3, 6, 4, 6, 8, 12, 10, 9, 18, 20, 22])\n",
        "plt.plot(x, y)\n",
        "plt.show()"
      ],
      "metadata": {
        "colab": {
          "base_uri": "https://localhost:8080/",
          "height": 265
        },
        "id": "Dqcd_GGZ964V",
        "outputId": "5a56c001-e6fe-45a2-812d-1cb6c2803e45"
      },
      "execution_count": null,
      "outputs": [
        {
          "output_type": "display_data",
          "data": {
            "text/plain": [
              "<Figure size 432x288 with 1 Axes>"
            ],
            "image/png": "[encoded data removed]"
          },
          "metadata": {
            "needs_background": "light"
          }
        }
      ]
    }
  ]
}