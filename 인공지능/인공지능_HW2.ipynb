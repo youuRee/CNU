{
  "nbformat": 4,
  "nbformat_minor": 0,
  "metadata": {
    "colab": {
      "provenance": []
    },
    "kernelspec": {
      "name": "python3",
      "display_name": "Python 3"
    },
    "language_info": {
      "name": "python"
    }
  },
  "cells": [
    {
      "cell_type": "code",
      "execution_count": null,
      "metadata": {
        "colab": {
          "base_uri": "https://localhost:8080/",
          "height": 302
        },
        "id": "iBFQNR8EnoX_",
        "outputId": "6a4cec1a-9208-4d08-92d3-1f4d8e770179"
      },
      "outputs": [
        {
          "output_type": "display_data",
          "data": {
            "text/plain": [
              "<Figure size 432x288 with 1 Axes>"
            ],
            "image/png": "[encoded data removed]"
          },
          "metadata": {
            "needs_background": "light"
          }
        },
        {
          "output_type": "stream",
          "name": "stdout",
          "text": [
            "아파트 면적을 적으시오: 15\n",
            "아파트 가격 예측 값:  1.5752984886195542\n"
          ]
        }
      ],
      "source": [
        "# 1번\n",
        "import numpy as np\n",
        "import matplotlib.pylab as plt \n",
        "from sklearn import linear_model\n",
        "\n",
        "x = [[10], [23], [32], [50], [65], [80], [90], [100], [108], [112], [125], [150]]\n",
        "y = [5, 3, 5, 6, 10, 12, 15, 18, 20, 24 ,25 ,30]\n",
        "\n",
        "linear = linear_model.LinearRegression()\n",
        "\n",
        "linear.fit(x, y) # 학습\n",
        "y_pred = linear.predict(x) # 예측\n",
        "\n",
        "plt.scatter(x, y, color='black')\n",
        "\n",
        "plt.plot(x, y_pred, color='blue', linewidth=3)\n",
        "plt.show()\n",
        "\n",
        "# 사용자 입력\n",
        "user_input = float(input(\"아파트 면적을 적으시오: \"))\n",
        "y_pred = linear.predict([[user_input]])\n",
        "print(\"아파트 가격 예측 값: \", y_pred[0])"
      ]
    },
    {
      "cell_type": "code",
      "source": [
        "# 2번\n",
        "import numpy as np\n",
        "from sklearn.linear_model import Perceptron\n",
        "\n",
        "x = [[170, 80], [175, 76], [180, 70], [160, 55], [163, 43], [165, 48]]\n",
        "y_label = [0, 0, 0, 1, 1, 1]\n",
        "\n",
        "model = Perceptron()\n",
        "model.fit(x, y_label)\n",
        "\n",
        "x1 = int(input(\"신장 : \")) # 학생의 신장\n",
        "x2 = int(input(\"체중 : \")) # 학생의 체중\n",
        "\n",
        "x_array = np.array([[x1, x2]])\n",
        "y_pred = model.predict(x_array)\n",
        "\n",
        "if y_pred[0] == 1:\n",
        "  print(\"학생의 성별은 여자 입니다.\")\n",
        "else:\n",
        "  print(\"학생의 성별은 남자 입니다.\")"
      ],
      "metadata": {
        "colab": {
          "base_uri": "https://localhost:8080/"
        },
        "id": "w9DPPoEioJax",
        "outputId": "9bac401c-142d-4854-ec30-c287c7c740a6"
      },
      "execution_count": null,
      "outputs": [
        {
          "output_type": "stream",
          "name": "stdout",
          "text": [
            "신장 : 180\n",
            "체중 : 75\n",
            "학생의 성별은 남자 입니다.\n"
          ]
        }
      ]
    },
    {
      "cell_type": "code",
      "source": [
        "# 2 - 적절한 w, b 값 찾기\n",
        "import numpy as np\n",
        "\n",
        "epsilon = 0.0000001\n",
        "\n",
        "def step_func(t):\n",
        "  if t > epsilon: return 1\n",
        "  else: return 0\n",
        "\n",
        "def pt_fit(x, y, epochs=40):\n",
        "  global w\n",
        "  lr = 0.2\n",
        "\n",
        "  for i in range(epochs):\n",
        "    print(\"epoch = \", i)\n",
        "    for j in range(len(x)):\n",
        "      pred = step_func(np.dot(x[j], w))\n",
        "      loss = y[j] - pred\n",
        "      w += lr*loss*x[j]\n",
        "      print(\"현재 입력 = \", x[j], \"정답 = \", y[j], \"출력 = \", pred, \"변경된 가중치 = \", w)\n",
        "    print(\"====================================\")\n",
        "\n",
        "def pt_predict(x, y):\n",
        "  global w\n",
        "  print(\"예측값\")\n",
        "  for i in x:\n",
        "    print(i[0], i[1], \" -> \", step_func(np.dot(i, w)))\n",
        "\n",
        "x = np.array([[170, 80, 1], [175, 76, 1], [180, 70, 1], [160, 55, 1], [163, 43, 1], [165, 48, 1]])\n",
        "y = np.array([0, 0, 0, 1, 1, 1])\n",
        "w = np.zeros(len(x[0]))\n",
        "\n",
        "print(w)\n",
        "pt_fit(x, y)\n",
        "pt_predict(x, y)"
      ],
      "metadata": {
        "colab": {
          "base_uri": "https://localhost:8080/"
        },
        "id": "e-qC-UwrzyXw",
        "outputId": "6eb66fa8-4d1b-436b-ce4e-2c7a684c5fa8"
      },
      "execution_count": null,
      "outputs": [
        {
          "output_type": "stream",
          "name": "stdout",
          "text": [
            "[0. 0. 0.]\n",
            "epoch =  0\n",
            "현재 입력 =  [170  80   1] 정답 =  0 출력 =  0 변경된 가중치 =  [0. 0. 0.]\n",
            "현재 입력 =  [175  76   1] 정답 =  0 출력 =  0 변경된 가중치 =  [0. 0. 0.]\n",
            "현재 입력 =  [180  70   1] 정답 =  0 출력 =  0 변경된 가중치 =  [0. 0. 0.]\n",
            "현재 입력 =  [160  55   1] 정답 =  1 출력 =  0 변경된 가중치 =  [32.  11.   0.2]\n",
            "현재 입력 =  [163  43   1] 정답 =  1 출력 =  1 변경된 가중치 =  [32.  11.   0.2]\n",
            "현재 입력 =  [165  48   1] 정답 =  1 출력 =  1 변경된 가중치 =  [32.  11.   0.2]\n",
            "====================================\n",
            "epoch =  1\n",
            "현재 입력 =  [170  80   1] 정답 =  0 출력 =  1 변경된 가중치 =  [-2. -5.  0.]\n",
            "현재 입력 =  [175  76   1] 정답 =  0 출력 =  0 변경된 가중치 =  [-2. -5.  0.]\n",
            "현재 입력 =  [180  70   1] 정답 =  0 출력 =  0 변경된 가중치 =  [-2. -5.  0.]\n",
            "현재 입력 =  [160  55   1] 정답 =  1 출력 =  0 변경된 가중치 =  [30.   6.   0.2]\n",
            "현재 입력 =  [163  43   1] 정답 =  1 출력 =  1 변경된 가중치 =  [30.   6.   0.2]\n",
            "현재 입력 =  [165  48   1] 정답 =  1 출력 =  1 변경된 가중치 =  [30.   6.   0.2]\n",
            "====================================\n",
            "epoch =  2\n",
            "현재 입력 =  [170  80   1] 정답 =  0 출력 =  1 변경된 가중치 =  [ -4. -10.   0.]\n",
            "현재 입력 =  [175  76   1] 정답 =  0 출력 =  0 변경된 가중치 =  [ -4. -10.   0.]\n",
            "현재 입력 =  [180  70   1] 정답 =  0 출력 =  0 변경된 가중치 =  [ -4. -10.   0.]\n",
            "현재 입력 =  [160  55   1] 정답 =  1 출력 =  0 변경된 가중치 =  [28.   1.   0.2]\n",
            "현재 입력 =  [163  43   1] 정답 =  1 출력 =  1 변경된 가중치 =  [28.   1.   0.2]\n",
            "현재 입력 =  [165  48   1] 정답 =  1 출력 =  1 변경된 가중치 =  [28.   1.   0.2]\n",
            "====================================\n",
            "epoch =  3\n",
            "현재 입력 =  [170  80   1] 정답 =  0 출력 =  1 변경된 가중치 =  [ -6. -15.   0.]\n",
            "현재 입력 =  [175  76   1] 정답 =  0 출력 =  0 변경된 가중치 =  [ -6. -15.   0.]\n",
            "현재 입력 =  [180  70   1] 정답 =  0 출력 =  0 변경된 가중치 =  [ -6. -15.   0.]\n",
            "현재 입력 =  [160  55   1] 정답 =  1 출력 =  0 변경된 가중치 =  [26.  -4.   0.2]\n",
            "현재 입력 =  [163  43   1] 정답 =  1 출력 =  1 변경된 가중치 =  [26.  -4.   0.2]\n",
            "현재 입력 =  [165  48   1] 정답 =  1 출력 =  1 변경된 가중치 =  [26.  -4.   0.2]\n",
            "====================================\n",
            "epoch =  4\n",
            "현재 입력 =  [170  80   1] 정답 =  0 출력 =  1 변경된 가중치 =  [ -8. -20.   0.]\n",
            "현재 입력 =  [175  76   1] 정답 =  0 출력 =  0 변경된 가중치 =  [ -8. -20.   0.]\n",
            "현재 입력 =  [180  70   1] 정답 =  0 출력 =  0 변경된 가중치 =  [ -8. -20.   0.]\n",
            "현재 입력 =  [160  55   1] 정답 =  1 출력 =  0 변경된 가중치 =  [24.  -9.   0.2]\n",
            "현재 입력 =  [163  43   1] 정답 =  1 출력 =  1 변경된 가중치 =  [24.  -9.   0.2]\n",
            "현재 입력 =  [165  48   1] 정답 =  1 출력 =  1 변경된 가중치 =  [24.  -9.   0.2]\n",
            "====================================\n",
            "epoch =  5\n",
            "현재 입력 =  [170  80   1] 정답 =  0 출력 =  1 변경된 가중치 =  [-10. -25.   0.]\n",
            "현재 입력 =  [175  76   1] 정답 =  0 출력 =  0 변경된 가중치 =  [-10. -25.   0.]\n",
            "현재 입력 =  [180  70   1] 정답 =  0 출력 =  0 변경된 가중치 =  [-10. -25.   0.]\n",
            "현재 입력 =  [160  55   1] 정답 =  1 출력 =  0 변경된 가중치 =  [ 22.  -14.    0.2]\n",
            "현재 입력 =  [163  43   1] 정답 =  1 출력 =  1 변경된 가중치 =  [ 22.  -14.    0.2]\n",
            "현재 입력 =  [165  48   1] 정답 =  1 출력 =  1 변경된 가중치 =  [ 22.  -14.    0.2]\n",
            "====================================\n",
            "epoch =  6\n",
            "현재 입력 =  [170  80   1] 정답 =  0 출력 =  1 변경된 가중치 =  [-12. -30.   0.]\n",
            "현재 입력 =  [175  76   1] 정답 =  0 출력 =  0 변경된 가중치 =  [-12. -30.   0.]\n",
            "현재 입력 =  [180  70   1] 정답 =  0 출력 =  0 변경된 가중치 =  [-12. -30.   0.]\n",
            "현재 입력 =  [160  55   1] 정답 =  1 출력 =  0 변경된 가중치 =  [ 20.  -19.    0.2]\n",
            "현재 입력 =  [163  43   1] 정답 =  1 출력 =  1 변경된 가중치 =  [ 20.  -19.    0.2]\n",
            "현재 입력 =  [165  48   1] 정답 =  1 출력 =  1 변경된 가중치 =  [ 20.  -19.    0.2]\n",
            "====================================\n",
            "epoch =  7\n",
            "현재 입력 =  [170  80   1] 정답 =  0 출력 =  1 변경된 가중치 =  [-14. -35.   0.]\n",
            "현재 입력 =  [175  76   1] 정답 =  0 출력 =  0 변경된 가중치 =  [-14. -35.   0.]\n",
            "현재 입력 =  [180  70   1] 정답 =  0 출력 =  0 변경된 가중치 =  [-14. -35.   0.]\n",
            "현재 입력 =  [160  55   1] 정답 =  1 출력 =  0 변경된 가중치 =  [ 18.  -24.    0.2]\n",
            "현재 입력 =  [163  43   1] 정답 =  1 출력 =  1 변경된 가중치 =  [ 18.  -24.    0.2]\n",
            "현재 입력 =  [165  48   1] 정답 =  1 출력 =  1 변경된 가중치 =  [ 18.  -24.    0.2]\n",
            "====================================\n",
            "epoch =  8\n",
            "현재 입력 =  [170  80   1] 정답 =  0 출력 =  1 변경된 가중치 =  [-16. -40.   0.]\n",
            "현재 입력 =  [175  76   1] 정답 =  0 출력 =  0 변경된 가중치 =  [-16. -40.   0.]\n",
            "현재 입력 =  [180  70   1] 정답 =  0 출력 =  0 변경된 가중치 =  [-16. -40.   0.]\n",
            "현재 입력 =  [160  55   1] 정답 =  1 출력 =  0 변경된 가중치 =  [ 16.  -29.    0.2]\n",
            "현재 입력 =  [163  43   1] 정답 =  1 출력 =  1 변경된 가중치 =  [ 16.  -29.    0.2]\n",
            "현재 입력 =  [165  48   1] 정답 =  1 출력 =  1 변경된 가중치 =  [ 16.  -29.    0.2]\n",
            "====================================\n",
            "epoch =  9\n",
            "현재 입력 =  [170  80   1] 정답 =  0 출력 =  1 변경된 가중치 =  [-18. -45.   0.]\n",
            "현재 입력 =  [175  76   1] 정답 =  0 출력 =  0 변경된 가중치 =  [-18. -45.   0.]\n",
            "현재 입력 =  [180  70   1] 정답 =  0 출력 =  0 변경된 가중치 =  [-18. -45.   0.]\n",
            "현재 입력 =  [160  55   1] 정답 =  1 출력 =  0 변경된 가중치 =  [ 14.  -34.    0.2]\n",
            "현재 입력 =  [163  43   1] 정답 =  1 출력 =  1 변경된 가중치 =  [ 14.  -34.    0.2]\n",
            "현재 입력 =  [165  48   1] 정답 =  1 출력 =  1 변경된 가중치 =  [ 14.  -34.    0.2]\n",
            "====================================\n",
            "epoch =  10\n",
            "현재 입력 =  [170  80   1] 정답 =  0 출력 =  0 변경된 가중치 =  [ 14.  -34.    0.2]\n",
            "현재 입력 =  [175  76   1] 정답 =  0 출력 =  0 변경된 가중치 =  [ 14.  -34.    0.2]\n",
            "현재 입력 =  [180  70   1] 정답 =  0 출력 =  1 변경된 가중치 =  [-22. -48.   0.]\n",
            "현재 입력 =  [160  55   1] 정답 =  1 출력 =  0 변경된 가중치 =  [ 10.  -37.    0.2]\n",
            "현재 입력 =  [163  43   1] 정답 =  1 출력 =  1 변경된 가중치 =  [ 10.  -37.    0.2]\n",
            "현재 입력 =  [165  48   1] 정답 =  1 출력 =  0 변경된 가중치 =  [ 43.  -27.4   0.4]\n",
            "====================================\n",
            "epoch =  11\n",
            "현재 입력 =  [170  80   1] 정답 =  0 출력 =  1 변경된 가중치 =  [  9.  -43.4   0.2]\n",
            "현재 입력 =  [175  76   1] 정답 =  0 출력 =  0 변경된 가중치 =  [  9.  -43.4   0.2]\n",
            "현재 입력 =  [180  70   1] 정답 =  0 출력 =  0 변경된 가중치 =  [  9.  -43.4   0.2]\n",
            "현재 입력 =  [160  55   1] 정답 =  1 출력 =  0 변경된 가중치 =  [ 41.  -32.4   0.4]\n",
            "현재 입력 =  [163  43   1] 정답 =  1 출력 =  1 변경된 가중치 =  [ 41.  -32.4   0.4]\n",
            "현재 입력 =  [165  48   1] 정답 =  1 출력 =  1 변경된 가중치 =  [ 41.  -32.4   0.4]\n",
            "====================================\n",
            "epoch =  12\n",
            "현재 입력 =  [170  80   1] 정답 =  0 출력 =  1 변경된 가중치 =  [  7.  -48.4   0.2]\n",
            "현재 입력 =  [175  76   1] 정답 =  0 출력 =  0 변경된 가중치 =  [  7.  -48.4   0.2]\n",
            "현재 입력 =  [180  70   1] 정답 =  0 출력 =  0 변경된 가중치 =  [  7.  -48.4   0.2]\n",
            "현재 입력 =  [160  55   1] 정답 =  1 출력 =  0 변경된 가중치 =  [ 39.  -37.4   0.4]\n",
            "현재 입력 =  [163  43   1] 정답 =  1 출력 =  1 변경된 가중치 =  [ 39.  -37.4   0.4]\n",
            "현재 입력 =  [165  48   1] 정답 =  1 출력 =  1 변경된 가중치 =  [ 39.  -37.4   0.4]\n",
            "====================================\n",
            "epoch =  13\n",
            "현재 입력 =  [170  80   1] 정답 =  0 출력 =  1 변경된 가중치 =  [  5.  -53.4   0.2]\n",
            "현재 입력 =  [175  76   1] 정답 =  0 출력 =  0 변경된 가중치 =  [  5.  -53.4   0.2]\n",
            "현재 입력 =  [180  70   1] 정답 =  0 출력 =  0 변경된 가중치 =  [  5.  -53.4   0.2]\n",
            "현재 입력 =  [160  55   1] 정답 =  1 출력 =  0 변경된 가중치 =  [ 37.  -42.4   0.4]\n",
            "현재 입력 =  [163  43   1] 정답 =  1 출력 =  1 변경된 가중치 =  [ 37.  -42.4   0.4]\n",
            "현재 입력 =  [165  48   1] 정답 =  1 출력 =  1 변경된 가중치 =  [ 37.  -42.4   0.4]\n",
            "====================================\n",
            "epoch =  14\n",
            "현재 입력 =  [170  80   1] 정답 =  0 출력 =  1 변경된 가중치 =  [  3.  -58.4   0.2]\n",
            "현재 입력 =  [175  76   1] 정답 =  0 출력 =  0 변경된 가중치 =  [  3.  -58.4   0.2]\n",
            "현재 입력 =  [180  70   1] 정답 =  0 출력 =  0 변경된 가중치 =  [  3.  -58.4   0.2]\n",
            "현재 입력 =  [160  55   1] 정답 =  1 출력 =  0 변경된 가중치 =  [ 35.  -47.4   0.4]\n",
            "현재 입력 =  [163  43   1] 정답 =  1 출력 =  1 변경된 가중치 =  [ 35.  -47.4   0.4]\n",
            "현재 입력 =  [165  48   1] 정답 =  1 출력 =  1 변경된 가중치 =  [ 35.  -47.4   0.4]\n",
            "====================================\n",
            "epoch =  15\n",
            "현재 입력 =  [170  80   1] 정답 =  0 출력 =  1 변경된 가중치 =  [  1.  -63.4   0.2]\n",
            "현재 입력 =  [175  76   1] 정답 =  0 출력 =  0 변경된 가중치 =  [  1.  -63.4   0.2]\n",
            "현재 입력 =  [180  70   1] 정답 =  0 출력 =  0 변경된 가중치 =  [  1.  -63.4   0.2]\n",
            "현재 입력 =  [160  55   1] 정답 =  1 출력 =  0 변경된 가중치 =  [ 33.  -52.4   0.4]\n",
            "현재 입력 =  [163  43   1] 정답 =  1 출력 =  1 변경된 가중치 =  [ 33.  -52.4   0.4]\n",
            "현재 입력 =  [165  48   1] 정답 =  1 출력 =  1 변경된 가중치 =  [ 33.  -52.4   0.4]\n",
            "====================================\n",
            "epoch =  16\n",
            "현재 입력 =  [170  80   1] 정답 =  0 출력 =  1 변경된 가중치 =  [ -1.  -68.4   0.2]\n",
            "현재 입력 =  [175  76   1] 정답 =  0 출력 =  0 변경된 가중치 =  [ -1.  -68.4   0.2]\n",
            "현재 입력 =  [180  70   1] 정답 =  0 출력 =  0 변경된 가중치 =  [ -1.  -68.4   0.2]\n",
            "현재 입력 =  [160  55   1] 정답 =  1 출력 =  0 변경된 가중치 =  [ 31.  -57.4   0.4]\n",
            "현재 입력 =  [163  43   1] 정답 =  1 출력 =  1 변경된 가중치 =  [ 31.  -57.4   0.4]\n",
            "현재 입력 =  [165  48   1] 정답 =  1 출력 =  1 변경된 가중치 =  [ 31.  -57.4   0.4]\n",
            "====================================\n",
            "epoch =  17\n",
            "현재 입력 =  [170  80   1] 정답 =  0 출력 =  1 변경된 가중치 =  [ -3.  -73.4   0.2]\n",
            "현재 입력 =  [175  76   1] 정답 =  0 출력 =  0 변경된 가중치 =  [ -3.  -73.4   0.2]\n",
            "현재 입력 =  [180  70   1] 정답 =  0 출력 =  0 변경된 가중치 =  [ -3.  -73.4   0.2]\n",
            "현재 입력 =  [160  55   1] 정답 =  1 출력 =  0 변경된 가중치 =  [ 29.  -62.4   0.4]\n",
            "현재 입력 =  [163  43   1] 정답 =  1 출력 =  1 변경된 가중치 =  [ 29.  -62.4   0.4]\n",
            "현재 입력 =  [165  48   1] 정답 =  1 출력 =  1 변경된 가중치 =  [ 29.  -62.4   0.4]\n",
            "====================================\n",
            "epoch =  18\n",
            "현재 입력 =  [170  80   1] 정답 =  0 출력 =  0 변경된 가중치 =  [ 29.  -62.4   0.4]\n",
            "현재 입력 =  [175  76   1] 정답 =  0 출력 =  1 변경된 가중치 =  [ -6.  -77.6   0.2]\n",
            "현재 입력 =  [180  70   1] 정답 =  0 출력 =  0 변경된 가중치 =  [ -6.  -77.6   0.2]\n",
            "현재 입력 =  [160  55   1] 정답 =  1 출력 =  0 변경된 가중치 =  [ 26.  -66.6   0.4]\n",
            "현재 입력 =  [163  43   1] 정답 =  1 출력 =  1 변경된 가중치 =  [ 26.  -66.6   0.4]\n",
            "현재 입력 =  [165  48   1] 정답 =  1 출력 =  1 변경된 가중치 =  [ 26.  -66.6   0.4]\n",
            "====================================\n",
            "epoch =  19\n",
            "현재 입력 =  [170  80   1] 정답 =  0 출력 =  0 변경된 가중치 =  [ 26.  -66.6   0.4]\n",
            "현재 입력 =  [175  76   1] 정답 =  0 출력 =  0 변경된 가중치 =  [ 26.  -66.6   0.4]\n",
            "현재 입력 =  [180  70   1] 정답 =  0 출력 =  1 변경된 가중치 =  [-10.  -80.6   0.2]\n",
            "현재 입력 =  [160  55   1] 정답 =  1 출력 =  0 변경된 가중치 =  [ 22.  -69.6   0.4]\n",
            "현재 입력 =  [163  43   1] 정답 =  1 출력 =  1 변경된 가중치 =  [ 22.  -69.6   0.4]\n",
            "현재 입력 =  [165  48   1] 정답 =  1 출력 =  1 변경된 가중치 =  [ 22.  -69.6   0.4]\n",
            "====================================\n",
            "epoch =  20\n",
            "현재 입력 =  [170  80   1] 정답 =  0 출력 =  0 변경된 가중치 =  [ 22.  -69.6   0.4]\n",
            "현재 입력 =  [175  76   1] 정답 =  0 출력 =  0 변경된 가중치 =  [ 22.  -69.6   0.4]\n",
            "현재 입력 =  [180  70   1] 정답 =  0 출력 =  0 변경된 가중치 =  [ 22.  -69.6   0.4]\n",
            "현재 입력 =  [160  55   1] 정답 =  1 출력 =  0 변경된 가중치 =  [ 54.  -58.6   0.6]\n",
            "현재 입력 =  [163  43   1] 정답 =  1 출력 =  1 변경된 가중치 =  [ 54.  -58.6   0.6]\n",
            "현재 입력 =  [165  48   1] 정답 =  1 출력 =  1 변경된 가중치 =  [ 54.  -58.6   0.6]\n",
            "====================================\n",
            "epoch =  21\n",
            "현재 입력 =  [170  80   1] 정답 =  0 출력 =  1 변경된 가중치 =  [ 20.  -74.6   0.4]\n",
            "현재 입력 =  [175  76   1] 정답 =  0 출력 =  0 변경된 가중치 =  [ 20.  -74.6   0.4]\n",
            "현재 입력 =  [180  70   1] 정답 =  0 출력 =  0 변경된 가중치 =  [ 20.  -74.6   0.4]\n",
            "현재 입력 =  [160  55   1] 정답 =  1 출력 =  0 변경된 가중치 =  [ 52.  -63.6   0.6]\n",
            "현재 입력 =  [163  43   1] 정답 =  1 출력 =  1 변경된 가중치 =  [ 52.  -63.6   0.6]\n",
            "현재 입력 =  [165  48   1] 정답 =  1 출력 =  1 변경된 가중치 =  [ 52.  -63.6   0.6]\n",
            "====================================\n",
            "epoch =  22\n",
            "현재 입력 =  [170  80   1] 정답 =  0 출력 =  1 변경된 가중치 =  [ 18.  -79.6   0.4]\n",
            "현재 입력 =  [175  76   1] 정답 =  0 출력 =  0 변경된 가중치 =  [ 18.  -79.6   0.4]\n",
            "현재 입력 =  [180  70   1] 정답 =  0 출력 =  0 변경된 가중치 =  [ 18.  -79.6   0.4]\n",
            "현재 입력 =  [160  55   1] 정답 =  1 출력 =  0 변경된 가중치 =  [ 50.  -68.6   0.6]\n",
            "현재 입력 =  [163  43   1] 정답 =  1 출력 =  1 변경된 가중치 =  [ 50.  -68.6   0.6]\n",
            "현재 입력 =  [165  48   1] 정답 =  1 출력 =  1 변경된 가중치 =  [ 50.  -68.6   0.6]\n",
            "====================================\n",
            "epoch =  23\n",
            "현재 입력 =  [170  80   1] 정답 =  0 출력 =  1 변경된 가중치 =  [ 16.  -84.6   0.4]\n",
            "현재 입력 =  [175  76   1] 정답 =  0 출력 =  0 변경된 가중치 =  [ 16.  -84.6   0.4]\n",
            "현재 입력 =  [180  70   1] 정답 =  0 출력 =  0 변경된 가중치 =  [ 16.  -84.6   0.4]\n",
            "현재 입력 =  [160  55   1] 정답 =  1 출력 =  0 변경된 가중치 =  [ 48.  -73.6   0.6]\n",
            "현재 입력 =  [163  43   1] 정답 =  1 출력 =  1 변경된 가중치 =  [ 48.  -73.6   0.6]\n",
            "현재 입력 =  [165  48   1] 정답 =  1 출력 =  1 변경된 가중치 =  [ 48.  -73.6   0.6]\n",
            "====================================\n",
            "epoch =  24\n",
            "현재 입력 =  [170  80   1] 정답 =  0 출력 =  1 변경된 가중치 =  [ 14.  -89.6   0.4]\n",
            "현재 입력 =  [175  76   1] 정답 =  0 출력 =  0 변경된 가중치 =  [ 14.  -89.6   0.4]\n",
            "현재 입력 =  [180  70   1] 정답 =  0 출력 =  0 변경된 가중치 =  [ 14.  -89.6   0.4]\n",
            "현재 입력 =  [160  55   1] 정답 =  1 출력 =  0 변경된 가중치 =  [ 46.  -78.6   0.6]\n",
            "현재 입력 =  [163  43   1] 정답 =  1 출력 =  1 변경된 가중치 =  [ 46.  -78.6   0.6]\n",
            "현재 입력 =  [165  48   1] 정답 =  1 출력 =  1 변경된 가중치 =  [ 46.  -78.6   0.6]\n",
            "====================================\n",
            "epoch =  25\n",
            "현재 입력 =  [170  80   1] 정답 =  0 출력 =  1 변경된 가중치 =  [ 12.  -94.6   0.4]\n",
            "현재 입력 =  [175  76   1] 정답 =  0 출력 =  0 변경된 가중치 =  [ 12.  -94.6   0.4]\n",
            "현재 입력 =  [180  70   1] 정답 =  0 출력 =  0 변경된 가중치 =  [ 12.  -94.6   0.4]\n",
            "현재 입력 =  [160  55   1] 정답 =  1 출력 =  0 변경된 가중치 =  [ 44.  -83.6   0.6]\n",
            "현재 입력 =  [163  43   1] 정답 =  1 출력 =  1 변경된 가중치 =  [ 44.  -83.6   0.6]\n",
            "현재 입력 =  [165  48   1] 정답 =  1 출력 =  1 변경된 가중치 =  [ 44.  -83.6   0.6]\n",
            "====================================\n",
            "epoch =  26\n",
            "현재 입력 =  [170  80   1] 정답 =  0 출력 =  1 변경된 가중치 =  [ 10.  -99.6   0.4]\n",
            "현재 입력 =  [175  76   1] 정답 =  0 출력 =  0 변경된 가중치 =  [ 10.  -99.6   0.4]\n",
            "현재 입력 =  [180  70   1] 정답 =  0 출력 =  0 변경된 가중치 =  [ 10.  -99.6   0.4]\n",
            "현재 입력 =  [160  55   1] 정답 =  1 출력 =  0 변경된 가중치 =  [ 42.  -88.6   0.6]\n",
            "현재 입력 =  [163  43   1] 정답 =  1 출력 =  1 변경된 가중치 =  [ 42.  -88.6   0.6]\n",
            "현재 입력 =  [165  48   1] 정답 =  1 출력 =  1 변경된 가중치 =  [ 42.  -88.6   0.6]\n",
            "====================================\n",
            "epoch =  27\n",
            "현재 입력 =  [170  80   1] 정답 =  0 출력 =  1 변경된 가중치 =  [   8.  -104.6    0.4]\n",
            "현재 입력 =  [175  76   1] 정답 =  0 출력 =  0 변경된 가중치 =  [   8.  -104.6    0.4]\n",
            "현재 입력 =  [180  70   1] 정답 =  0 출력 =  0 변경된 가중치 =  [   8.  -104.6    0.4]\n",
            "현재 입력 =  [160  55   1] 정답 =  1 출력 =  0 변경된 가중치 =  [ 40.  -93.6   0.6]\n",
            "현재 입력 =  [163  43   1] 정답 =  1 출력 =  1 변경된 가중치 =  [ 40.  -93.6   0.6]\n",
            "현재 입력 =  [165  48   1] 정답 =  1 출력 =  1 변경된 가중치 =  [ 40.  -93.6   0.6]\n",
            "====================================\n",
            "epoch =  28\n",
            "현재 입력 =  [170  80   1] 정답 =  0 출력 =  0 변경된 가중치 =  [ 40.  -93.6   0.6]\n",
            "현재 입력 =  [175  76   1] 정답 =  0 출력 =  0 변경된 가중치 =  [ 40.  -93.6   0.6]\n",
            "현재 입력 =  [180  70   1] 정답 =  0 출력 =  1 변경된 가중치 =  [   4.  -107.6    0.4]\n",
            "현재 입력 =  [160  55   1] 정답 =  1 출력 =  0 변경된 가중치 =  [ 36.  -96.6   0.6]\n",
            "현재 입력 =  [163  43   1] 정답 =  1 출력 =  1 변경된 가중치 =  [ 36.  -96.6   0.6]\n",
            "현재 입력 =  [165  48   1] 정답 =  1 출력 =  1 변경된 가중치 =  [ 36.  -96.6   0.6]\n",
            "====================================\n",
            "epoch =  29\n",
            "현재 입력 =  [170  80   1] 정답 =  0 출력 =  0 변경된 가중치 =  [ 36.  -96.6   0.6]\n",
            "현재 입력 =  [175  76   1] 정답 =  0 출력 =  0 변경된 가중치 =  [ 36.  -96.6   0.6]\n",
            "현재 입력 =  [180  70   1] 정답 =  0 출력 =  0 변경된 가중치 =  [ 36.  -96.6   0.6]\n",
            "현재 입력 =  [160  55   1] 정답 =  1 출력 =  1 변경된 가중치 =  [ 36.  -96.6   0.6]\n",
            "현재 입력 =  [163  43   1] 정답 =  1 출력 =  1 변경된 가중치 =  [ 36.  -96.6   0.6]\n",
            "현재 입력 =  [165  48   1] 정답 =  1 출력 =  1 변경된 가중치 =  [ 36.  -96.6   0.6]\n",
            "====================================\n",
            "epoch =  30\n",
            "현재 입력 =  [170  80   1] 정답 =  0 출력 =  0 변경된 가중치 =  [ 36.  -96.6   0.6]\n",
            "현재 입력 =  [175  76   1] 정답 =  0 출력 =  0 변경된 가중치 =  [ 36.  -96.6   0.6]\n",
            "현재 입력 =  [180  70   1] 정답 =  0 출력 =  0 변경된 가중치 =  [ 36.  -96.6   0.6]\n",
            "현재 입력 =  [160  55   1] 정답 =  1 출력 =  1 변경된 가중치 =  [ 36.  -96.6   0.6]\n",
            "현재 입력 =  [163  43   1] 정답 =  1 출력 =  1 변경된 가중치 =  [ 36.  -96.6   0.6]\n",
            "현재 입력 =  [165  48   1] 정답 =  1 출력 =  1 변경된 가중치 =  [ 36.  -96.6   0.6]\n",
            "====================================\n",
            "epoch =  31\n",
            "현재 입력 =  [170  80   1] 정답 =  0 출력 =  0 변경된 가중치 =  [ 36.  -96.6   0.6]\n",
            "현재 입력 =  [175  76   1] 정답 =  0 출력 =  0 변경된 가중치 =  [ 36.  -96.6   0.6]\n",
            "현재 입력 =  [180  70   1] 정답 =  0 출력 =  0 변경된 가중치 =  [ 36.  -96.6   0.6]\n",
            "현재 입력 =  [160  55   1] 정답 =  1 출력 =  1 변경된 가중치 =  [ 36.  -96.6   0.6]\n",
            "현재 입력 =  [163  43   1] 정답 =  1 출력 =  1 변경된 가중치 =  [ 36.  -96.6   0.6]\n",
            "현재 입력 =  [165  48   1] 정답 =  1 출력 =  1 변경된 가중치 =  [ 36.  -96.6   0.6]\n",
            "====================================\n",
            "epoch =  32\n",
            "현재 입력 =  [170  80   1] 정답 =  0 출력 =  0 변경된 가중치 =  [ 36.  -96.6   0.6]\n",
            "현재 입력 =  [175  76   1] 정답 =  0 출력 =  0 변경된 가중치 =  [ 36.  -96.6   0.6]\n",
            "현재 입력 =  [180  70   1] 정답 =  0 출력 =  0 변경된 가중치 =  [ 36.  -96.6   0.6]\n",
            "현재 입력 =  [160  55   1] 정답 =  1 출력 =  1 변경된 가중치 =  [ 36.  -96.6   0.6]\n",
            "현재 입력 =  [163  43   1] 정답 =  1 출력 =  1 변경된 가중치 =  [ 36.  -96.6   0.6]\n",
            "현재 입력 =  [165  48   1] 정답 =  1 출력 =  1 변경된 가중치 =  [ 36.  -96.6   0.6]\n",
            "====================================\n",
            "epoch =  33\n",
            "현재 입력 =  [170  80   1] 정답 =  0 출력 =  0 변경된 가중치 =  [ 36.  -96.6   0.6]\n",
            "현재 입력 =  [175  76   1] 정답 =  0 출력 =  0 변경된 가중치 =  [ 36.  -96.6   0.6]\n",
            "현재 입력 =  [180  70   1] 정답 =  0 출력 =  0 변경된 가중치 =  [ 36.  -96.6   0.6]\n",
            "현재 입력 =  [160  55   1] 정답 =  1 출력 =  1 변경된 가중치 =  [ 36.  -96.6   0.6]\n",
            "현재 입력 =  [163  43   1] 정답 =  1 출력 =  1 변경된 가중치 =  [ 36.  -96.6   0.6]\n",
            "현재 입력 =  [165  48   1] 정답 =  1 출력 =  1 변경된 가중치 =  [ 36.  -96.6   0.6]\n",
            "====================================\n",
            "epoch =  34\n",
            "현재 입력 =  [170  80   1] 정답 =  0 출력 =  0 변경된 가중치 =  [ 36.  -96.6   0.6]\n",
            "현재 입력 =  [175  76   1] 정답 =  0 출력 =  0 변경된 가중치 =  [ 36.  -96.6   0.6]\n",
            "현재 입력 =  [180  70   1] 정답 =  0 출력 =  0 변경된 가중치 =  [ 36.  -96.6   0.6]\n",
            "현재 입력 =  [160  55   1] 정답 =  1 출력 =  1 변경된 가중치 =  [ 36.  -96.6   0.6]\n",
            "현재 입력 =  [163  43   1] 정답 =  1 출력 =  1 변경된 가중치 =  [ 36.  -96.6   0.6]\n",
            "현재 입력 =  [165  48   1] 정답 =  1 출력 =  1 변경된 가중치 =  [ 36.  -96.6   0.6]\n",
            "====================================\n",
            "epoch =  35\n",
            "현재 입력 =  [170  80   1] 정답 =  0 출력 =  0 변경된 가중치 =  [ 36.  -96.6   0.6]\n",
            "현재 입력 =  [175  76   1] 정답 =  0 출력 =  0 변경된 가중치 =  [ 36.  -96.6   0.6]\n",
            "현재 입력 =  [180  70   1] 정답 =  0 출력 =  0 변경된 가중치 =  [ 36.  -96.6   0.6]\n",
            "현재 입력 =  [160  55   1] 정답 =  1 출력 =  1 변경된 가중치 =  [ 36.  -96.6   0.6]\n",
            "현재 입력 =  [163  43   1] 정답 =  1 출력 =  1 변경된 가중치 =  [ 36.  -96.6   0.6]\n",
            "현재 입력 =  [165  48   1] 정답 =  1 출력 =  1 변경된 가중치 =  [ 36.  -96.6   0.6]\n",
            "====================================\n",
            "epoch =  36\n",
            "현재 입력 =  [170  80   1] 정답 =  0 출력 =  0 변경된 가중치 =  [ 36.  -96.6   0.6]\n",
            "현재 입력 =  [175  76   1] 정답 =  0 출력 =  0 변경된 가중치 =  [ 36.  -96.6   0.6]\n",
            "현재 입력 =  [180  70   1] 정답 =  0 출력 =  0 변경된 가중치 =  [ 36.  -96.6   0.6]\n",
            "현재 입력 =  [160  55   1] 정답 =  1 출력 =  1 변경된 가중치 =  [ 36.  -96.6   0.6]\n",
            "현재 입력 =  [163  43   1] 정답 =  1 출력 =  1 변경된 가중치 =  [ 36.  -96.6   0.6]\n",
            "현재 입력 =  [165  48   1] 정답 =  1 출력 =  1 변경된 가중치 =  [ 36.  -96.6   0.6]\n",
            "====================================\n",
            "epoch =  37\n",
            "현재 입력 =  [170  80   1] 정답 =  0 출력 =  0 변경된 가중치 =  [ 36.  -96.6   0.6]\n",
            "현재 입력 =  [175  76   1] 정답 =  0 출력 =  0 변경된 가중치 =  [ 36.  -96.6   0.6]\n",
            "현재 입력 =  [180  70   1] 정답 =  0 출력 =  0 변경된 가중치 =  [ 36.  -96.6   0.6]\n",
            "현재 입력 =  [160  55   1] 정답 =  1 출력 =  1 변경된 가중치 =  [ 36.  -96.6   0.6]\n",
            "현재 입력 =  [163  43   1] 정답 =  1 출력 =  1 변경된 가중치 =  [ 36.  -96.6   0.6]\n",
            "현재 입력 =  [165  48   1] 정답 =  1 출력 =  1 변경된 가중치 =  [ 36.  -96.6   0.6]\n",
            "====================================\n",
            "epoch =  38\n",
            "현재 입력 =  [170  80   1] 정답 =  0 출력 =  0 변경된 가중치 =  [ 36.  -96.6   0.6]\n",
            "현재 입력 =  [175  76   1] 정답 =  0 출력 =  0 변경된 가중치 =  [ 36.  -96.6   0.6]\n",
            "현재 입력 =  [180  70   1] 정답 =  0 출력 =  0 변경된 가중치 =  [ 36.  -96.6   0.6]\n",
            "현재 입력 =  [160  55   1] 정답 =  1 출력 =  1 변경된 가중치 =  [ 36.  -96.6   0.6]\n",
            "현재 입력 =  [163  43   1] 정답 =  1 출력 =  1 변경된 가중치 =  [ 36.  -96.6   0.6]\n",
            "현재 입력 =  [165  48   1] 정답 =  1 출력 =  1 변경된 가중치 =  [ 36.  -96.6   0.6]\n",
            "====================================\n",
            "epoch =  39\n",
            "현재 입력 =  [170  80   1] 정답 =  0 출력 =  0 변경된 가중치 =  [ 36.  -96.6   0.6]\n",
            "현재 입력 =  [175  76   1] 정답 =  0 출력 =  0 변경된 가중치 =  [ 36.  -96.6   0.6]\n",
            "현재 입력 =  [180  70   1] 정답 =  0 출력 =  0 변경된 가중치 =  [ 36.  -96.6   0.6]\n",
            "현재 입력 =  [160  55   1] 정답 =  1 출력 =  1 변경된 가중치 =  [ 36.  -96.6   0.6]\n",
            "현재 입력 =  [163  43   1] 정답 =  1 출력 =  1 변경된 가중치 =  [ 36.  -96.6   0.6]\n",
            "현재 입력 =  [165  48   1] 정답 =  1 출력 =  1 변경된 가중치 =  [ 36.  -96.6   0.6]\n",
            "====================================\n",
            "예측값\n",
            "170 80  ->  0\n",
            "175 76  ->  0\n",
            "180 70  ->  0\n",
            "160 55  ->  1\n",
            "163 43  ->  1\n",
            "165 48  ->  1\n"
          ]
        }
      ]
    },
    {
      "cell_type": "code",
      "source": [
        "# 3번 - b\n",
        "import numpy as np\n",
        "\n",
        "epsilon = 0.0000001\n",
        "\n",
        "def step_func(t): # 활성화 함수 (계단함수)\n",
        "  if t > epsilon: return 1\n",
        "  else: return 0\n",
        "\n",
        "def pt_fit(x, y, epochs=10):\n",
        "  global w\n",
        "  lr = 1.0\n",
        "\n",
        "  for i in range(epochs):\n",
        "    print(\"epoch = \", i)\n",
        "    for j in range(len(x)):\n",
        "      #print(\"현재 가중치 = \", w[0], ' ', w[1], \" 현재 바이어스 = \", w[2])\n",
        "      pred = step_func(np.dot(x[j], w))\n",
        "      loss = y[j] - pred\n",
        "      # 가중치, 바이어스 수정\n",
        "      w[0] = w[0] + lr*loss*x[j][0]\n",
        "      w[1] = w[1] + lr*loss*x[j][1]\n",
        "      w[2] = w[2] + lr*loss\n",
        "      print(\"현재 입력 = \", x[j], \"정답 = \", y[j], \"출력 = \", pred, \"변경된 가중치 = \", w)\n",
        "    print(\"====================================\")\n",
        "\n",
        "x = np.array([[0 ,1, 1], [1, 0, 1], [1, 2, 1], [2, 1, 1]]) # [x1, x2, 1(b)]\n",
        "y = np.array([0, 0, 1, 1])\n",
        "w = np.array([0, 0, -1])\n",
        "w = w.astype(np.float64) # w type 변경 (int -> float)\n",
        "\n",
        "print(w)\n",
        "pt_fit(x, y)"
      ],
      "metadata": {
        "colab": {
          "base_uri": "https://localhost:8080/"
        },
        "id": "KV-eS_Yhp7BA",
        "outputId": "7566f889-0ccc-44b3-a000-070096464878"
      },
      "execution_count": null,
      "outputs": [
        {
          "output_type": "stream",
          "name": "stdout",
          "text": [
            "[ 0.  0. -1.]\n",
            "epoch =  0\n",
            "현재 입력 =  [0 1 1] 정답 =  0 출력 =  0 변경된 가중치 =  [ 0.  0. -1.]\n",
            "현재 입력 =  [1 0 1] 정답 =  0 출력 =  0 변경된 가중치 =  [ 0.  0. -1.]\n",
            "현재 입력 =  [1 2 1] 정답 =  1 출력 =  0 변경된 가중치 =  [1. 2. 0.]\n",
            "현재 입력 =  [2 1 1] 정답 =  1 출력 =  1 변경된 가중치 =  [1. 2. 0.]\n",
            "====================================\n",
            "epoch =  1\n",
            "현재 입력 =  [0 1 1] 정답 =  0 출력 =  1 변경된 가중치 =  [ 1.  1. -1.]\n",
            "현재 입력 =  [1 0 1] 정답 =  0 출력 =  0 변경된 가중치 =  [ 1.  1. -1.]\n",
            "현재 입력 =  [1 2 1] 정답 =  1 출력 =  1 변경된 가중치 =  [ 1.  1. -1.]\n",
            "현재 입력 =  [2 1 1] 정답 =  1 출력 =  1 변경된 가중치 =  [ 1.  1. -1.]\n",
            "====================================\n",
            "epoch =  2\n",
            "현재 입력 =  [0 1 1] 정답 =  0 출력 =  0 변경된 가중치 =  [ 1.  1. -1.]\n",
            "현재 입력 =  [1 0 1] 정답 =  0 출력 =  0 변경된 가중치 =  [ 1.  1. -1.]\n",
            "현재 입력 =  [1 2 1] 정답 =  1 출력 =  1 변경된 가중치 =  [ 1.  1. -1.]\n",
            "현재 입력 =  [2 1 1] 정답 =  1 출력 =  1 변경된 가중치 =  [ 1.  1. -1.]\n",
            "====================================\n",
            "epoch =  3\n",
            "현재 입력 =  [0 1 1] 정답 =  0 출력 =  0 변경된 가중치 =  [ 1.  1. -1.]\n",
            "현재 입력 =  [1 0 1] 정답 =  0 출력 =  0 변경된 가중치 =  [ 1.  1. -1.]\n",
            "현재 입력 =  [1 2 1] 정답 =  1 출력 =  1 변경된 가중치 =  [ 1.  1. -1.]\n",
            "현재 입력 =  [2 1 1] 정답 =  1 출력 =  1 변경된 가중치 =  [ 1.  1. -1.]\n",
            "====================================\n",
            "epoch =  4\n",
            "현재 입력 =  [0 1 1] 정답 =  0 출력 =  0 변경된 가중치 =  [ 1.  1. -1.]\n",
            "현재 입력 =  [1 0 1] 정답 =  0 출력 =  0 변경된 가중치 =  [ 1.  1. -1.]\n",
            "현재 입력 =  [1 2 1] 정답 =  1 출력 =  1 변경된 가중치 =  [ 1.  1. -1.]\n",
            "현재 입력 =  [2 1 1] 정답 =  1 출력 =  1 변경된 가중치 =  [ 1.  1. -1.]\n",
            "====================================\n",
            "epoch =  5\n",
            "현재 입력 =  [0 1 1] 정답 =  0 출력 =  0 변경된 가중치 =  [ 1.  1. -1.]\n",
            "현재 입력 =  [1 0 1] 정답 =  0 출력 =  0 변경된 가중치 =  [ 1.  1. -1.]\n",
            "현재 입력 =  [1 2 1] 정답 =  1 출력 =  1 변경된 가중치 =  [ 1.  1. -1.]\n",
            "현재 입력 =  [2 1 1] 정답 =  1 출력 =  1 변경된 가중치 =  [ 1.  1. -1.]\n",
            "====================================\n",
            "epoch =  6\n",
            "현재 입력 =  [0 1 1] 정답 =  0 출력 =  0 변경된 가중치 =  [ 1.  1. -1.]\n",
            "현재 입력 =  [1 0 1] 정답 =  0 출력 =  0 변경된 가중치 =  [ 1.  1. -1.]\n",
            "현재 입력 =  [1 2 1] 정답 =  1 출력 =  1 변경된 가중치 =  [ 1.  1. -1.]\n",
            "현재 입력 =  [2 1 1] 정답 =  1 출력 =  1 변경된 가중치 =  [ 1.  1. -1.]\n",
            "====================================\n",
            "epoch =  7\n",
            "현재 입력 =  [0 1 1] 정답 =  0 출력 =  0 변경된 가중치 =  [ 1.  1. -1.]\n",
            "현재 입력 =  [1 0 1] 정답 =  0 출력 =  0 변경된 가중치 =  [ 1.  1. -1.]\n",
            "현재 입력 =  [1 2 1] 정답 =  1 출력 =  1 변경된 가중치 =  [ 1.  1. -1.]\n",
            "현재 입력 =  [2 1 1] 정답 =  1 출력 =  1 변경된 가중치 =  [ 1.  1. -1.]\n",
            "====================================\n",
            "epoch =  8\n",
            "현재 입력 =  [0 1 1] 정답 =  0 출력 =  0 변경된 가중치 =  [ 1.  1. -1.]\n",
            "현재 입력 =  [1 0 1] 정답 =  0 출력 =  0 변경된 가중치 =  [ 1.  1. -1.]\n",
            "현재 입력 =  [1 2 1] 정답 =  1 출력 =  1 변경된 가중치 =  [ 1.  1. -1.]\n",
            "현재 입력 =  [2 1 1] 정답 =  1 출력 =  1 변경된 가중치 =  [ 1.  1. -1.]\n",
            "====================================\n",
            "epoch =  9\n",
            "현재 입력 =  [0 1 1] 정답 =  0 출력 =  0 변경된 가중치 =  [ 1.  1. -1.]\n",
            "현재 입력 =  [1 0 1] 정답 =  0 출력 =  0 변경된 가중치 =  [ 1.  1. -1.]\n",
            "현재 입력 =  [1 2 1] 정답 =  1 출력 =  1 변경된 가중치 =  [ 1.  1. -1.]\n",
            "현재 입력 =  [2 1 1] 정답 =  1 출력 =  1 변경된 가중치 =  [ 1.  1. -1.]\n",
            "====================================\n"
          ]
        }
      ]
    },
    {
      "cell_type": "code",
      "source": [
        "# 5번\n",
        "import numpy as np\n",
        "import matplotlib.pyplot as plt\n",
        "\n",
        "# f 미분 함수\n",
        "def gd (x):\n",
        "  return 2*x - 6\n",
        "\n",
        "x = np.array(range(0, 11))\n",
        "f = (x*x) + (x*-6) + 4\n",
        "x_coor = [] # 매번 업데이트 되는 x값들을 담을 배열\n",
        "lr_list = [0.1, 0.5, 0.9]\n",
        "y_coor = []\n",
        "new_x = 10 # 처음 x좌표 = 10\n",
        "\n",
        "for lr in lr_list:\n",
        "\n",
        "  for i in range(11):\n",
        "    x_coor.append(new_x)\n",
        "    y_coor.append((new_x*new_x) + (new_x*-6) + 4)\n",
        "    new_x = new_x - lr*gd(new_x) # 미분 값(gd) == 0, 업데이트 멈춤\n",
        "\n",
        "  print(x_coor)\n",
        "  print(y_coor)\n",
        "  plt.plot(x, f)\n",
        "  plt.scatter(x_coor, y_coor, color = 'red')\n",
        "  plt.show()"
      ],
      "metadata": {
        "colab": {
          "base_uri": "https://localhost:8080/",
          "height": 891
        },
        "id": "qgONekPTxJKO",
        "outputId": "cc842773-1f85-49d7-edd4-cdbd3f0ee459"
      },
      "execution_count": null,
      "outputs": [
        {
          "output_type": "stream",
          "name": "stdout",
          "text": [
            "[10, 8.6, 7.4799999999999995, 6.584, 5.8671999999999995, 5.29376, 4.835008, 4.4680064, 4.17440512, 3.9395240960000004, 3.7516192768000005]\n",
            "[44, 26.36, 15.0704, 7.845056, 3.2208358399999995, 0.2613349375999974, -1.632745639936001, -2.844957209559041, -3.6207726141177865, -4.117294473035384, -4.435068462742645]\n"
          ]
        },
        {
          "output_type": "display_data",
          "data": {
            "text/plain": [
              "<Figure size 432x288 with 1 Axes>"
            ],
            "image/png": "[encoded data removed]"
          },
          "metadata": {
            "needs_background": "light"
          }
        },
        {
          "output_type": "stream",
          "name": "stdout",
          "text": [
            "[10, 8.6, 7.4799999999999995, 6.584, 5.8671999999999995, 5.29376, 4.835008, 4.4680064, 4.17440512, 3.9395240960000004, 3.7516192768000005, 3.6012954214400006, 3.0, 3.0, 3.0, 3.0, 3.0, 3.0, 3.0, 3.0, 3.0, 3.0]\n",
            "[44, 26.36, 15.0704, 7.845056, 3.2208358399999995, 0.2613349375999974, -1.632745639936001, -2.844957209559041, -3.6207726141177865, -4.117294473035384, -4.435068462742645, -4.638443816155293, -5.0, -5.0, -5.0, -5.0, -5.0, -5.0, -5.0, -5.0, -5.0, -5.0]\n"
          ]
        },
        {
          "output_type": "display_data",
          "data": {
            "text/plain": [
              "<Figure size 432x288 with 1 Axes>"
            ],
            "image/png": "[encoded data removed]"
          },
          "metadata": {
            "needs_background": "light"
          }
        },
        {
          "output_type": "stream",
          "name": "stdout",
          "text": [
            "[10, 8.6, 7.4799999999999995, 6.584, 5.8671999999999995, 5.29376, 4.835008, 4.4680064, 4.17440512, 3.9395240960000004, 3.7516192768000005, 3.6012954214400006, 3.0, 3.0, 3.0, 3.0, 3.0, 3.0, 3.0, 3.0, 3.0, 3.0, 3.0, 3.0, 3.0, 3.0, 3.0, 3.0, 3.0, 3.0, 3.0, 3.0, 3.0]\n",
            "[44, 26.36, 15.0704, 7.845056, 3.2208358399999995, 0.2613349375999974, -1.632745639936001, -2.844957209559041, -3.6207726141177865, -4.117294473035384, -4.435068462742645, -4.638443816155293, -5.0, -5.0, -5.0, -5.0, -5.0, -5.0, -5.0, -5.0, -5.0, -5.0, -5.0, -5.0, -5.0, -5.0, -5.0, -5.0, -5.0, -5.0, -5.0, -5.0, -5.0]\n"
          ]
        },
        {
          "output_type": "display_data",
          "data": {
            "text/plain": [
              "<Figure size 432x288 with 1 Axes>"
            ],
            "image/png": "[encoded data removed]"
          },
          "metadata": {
            "needs_background": "light"
          }
        }
      ]
    },
    {
      "cell_type": "markdown",
      "source": [
        "----------------------------------------------------------------------------------------------------------------------------------------------------------------"
      ],
      "metadata": {
        "id": "ZIleIk36wYr0"
      }
    },
    {
      "cell_type": "code",
      "source": [
        "# 5번 -> w = 2x -6, b = 4, x = wx+b로 다시 작성"
      ],
      "metadata": {
        "id": "N4xKm_KmFG1T"
      },
      "execution_count": null,
      "outputs": []
    },
    {
      "cell_type": "code",
      "source": [
        "import numpy as np\n",
        "\n",
        "w = np.array([[1, 2], [3, 4]])\n",
        "print(w[0][1])"
      ],
      "metadata": {
        "colab": {
          "base_uri": "https://localhost:8080/"
        },
        "id": "NkT1RnwUFzR3",
        "outputId": "a15e5d52-7ab1-4546-9899-e6e924f4205c"
      },
      "execution_count": null,
      "outputs": [
        {
          "output_type": "stream",
          "name": "stdout",
          "text": [
            "2\n"
          ]
        }
      ]
    },
    {
      "cell_type": "code",
      "source": [
        "layer = np.array([[0, 0], [0, 1], [1, 0], [1, 1]])\n",
        "np.dot(layer, w)"
      ],
      "metadata": {
        "colab": {
          "base_uri": "https://localhost:8080/"
        },
        "id": "ByuMsfirGxPR",
        "outputId": "39059072-1f58-4c06-8254-3b120a213c98"
      },
      "execution_count": null,
      "outputs": [
        {
          "output_type": "execute_result",
          "data": {
            "text/plain": [
              "array([[0, 0],\n",
              "       [3, 4],\n",
              "       [1, 2],\n",
              "       [4, 6]])"
            ]
          },
          "metadata": {},
          "execution_count": 3
        }
      ]
    },
    {
      "cell_type": "code",
      "source": [
        "def relu(x):\n",
        "  return max(x, 0)\n",
        "def decent_relu(x):\n",
        "  if x > 0:\n",
        "    return 1\n",
        "  else:\n",
        "    return 0\n",
        "\n",
        "def forward():\n",
        "  global z1 \n",
        "  z1 = w1*x1\n",
        "  global a1 \n",
        "  a1 = relu(z1)\n",
        "  global z2 \n",
        "  z2 = w2*a1\n",
        "  global a2\n",
        "  a2 = relu(z2)\n",
        "\n",
        "def backpropagation():\n",
        "  forward()\n",
        "  dl_a2 = 0.4\n",
        "  print(dl_a2)\n",
        "  da2_dz2 = decent_relu(z2)\n",
        "  print(da2_dz2)\n",
        "  dz_dw2 = 1\n",
        "  print(dz_dw2)\n",
        "  \n",
        "  print(0.3 - 0.2*(dl_a2 * da2_dz2 * dz_dw2))\n",
        "\n",
        "x1 = 1\n",
        "w1 = 0.8\n",
        "w2 = 0.3\n",
        "\n",
        "backpropagation()"
      ],
      "metadata": {
        "colab": {
          "base_uri": "https://localhost:8080/"
        },
        "id": "LhCMhDAjNxrV",
        "outputId": "f000a2cf-4587-4192-b687-3de11742bf9f"
      },
      "execution_count": null,
      "outputs": [
        {
          "output_type": "stream",
          "name": "stdout",
          "text": [
            "0.4\n",
            "1\n",
            "1\n",
            "0.21999999999999997\n"
          ]
        }
      ]
    },
    {
      "cell_type": "code",
      "source": [
        "print(0.3 - (0.2*0.4))"
      ],
      "metadata": {
        "colab": {
          "base_uri": "https://localhost:8080/"
        },
        "id": "vgSKwXdaVXeY",
        "outputId": "f3e0f78c-7b63-41a4-abb8-5fd00e2410a1"
      },
      "execution_count": null,
      "outputs": [
        {
          "output_type": "stream",
          "name": "stdout",
          "text": [
            "0.21999999999999997\n"
          ]
        }
      ]
    },
    {
      "cell_type": "code",
      "source": [
        "import numpy as np\n",
        "X = np.array([[0, 0], [0, 1], [1, 0], [1, 1]])\n",
        "T = np.array([[1], [0], [0], [1]])\n",
        "\n",
        "for x, y in zip(X, T):\n",
        "  print(x)\n",
        "  print(y)\n",
        "  print('-------reshape------')\n",
        "  x = np.reshape(x, (1, -1))\n",
        "  y = np.reshape(y, (1, -1))\n",
        "  print(x)\n",
        "  print(y)\n",
        "  print('--------------------')"
      ],
      "metadata": {
        "colab": {
          "base_uri": "https://localhost:8080/"
        },
        "id": "i-6JyKuGmu3t",
        "outputId": "383ccf58-792c-438e-b2df-47bcef6b7610"
      },
      "execution_count": null,
      "outputs": [
        {
          "output_type": "stream",
          "name": "stdout",
          "text": [
            "[0 0]\n",
            "[1]\n",
            "-------reshape------\n",
            "[[0 0]]\n",
            "[[1]]\n",
            "--------------------\n",
            "[0 1]\n",
            "[0]\n",
            "-------reshape------\n",
            "[[0 1]]\n",
            "[[0]]\n",
            "--------------------\n",
            "[1 0]\n",
            "[0]\n",
            "-------reshape------\n",
            "[[1 0]]\n",
            "[[0]]\n",
            "--------------------\n",
            "[1 1]\n",
            "[1]\n",
            "-------reshape------\n",
            "[[1 1]]\n",
            "[[1]]\n",
            "--------------------\n"
          ]
        }
      ]
    },
    {
      "cell_type": "code",
      "source": [],
      "metadata": {
        "id": "v-KLhKaQmu9w"
      },
      "execution_count": null,
      "outputs": []
    }
  ]
}