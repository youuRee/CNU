{
  "nbformat": 4,
  "nbformat_minor": 0,
  "metadata": {
    "colab": {
      "provenance": []
    },
    "kernelspec": {
      "name": "python3",
      "display_name": "Python 3"
    },
    "language_info": {
      "name": "python"
    }
  },
  "cells": [
    {
      "cell_type": "markdown",
      "source": [
        "1번"
      ],
      "metadata": {
        "id": "Cu5Mc3PStRab"
      }
    },
    {
      "cell_type": "code",
      "source": [
        "# numerical differential\n",
        "def numerical_diff(x):\n",
        "    p1 = x*x + 2*x + 1 \n",
        "    n = 1e-7 # 가장 작은 값\n",
        "    p2 = (x+n)*(x+n) + 2*(x+n) + 1 # 이차식\n",
        "    diff_result = (p2 - p1) / n # dy / dx\n",
        "    return diff_result\n",
        "\n",
        "\n",
        "print(\"x^2+2x+1 함수의 x=2지점에서의 미분값은\", numerical_diff(2), \"입니다.\")"
      ],
      "metadata": {
        "colab": {
          "base_uri": "https://localhost:8080/"
        },
        "id": "vUjNyPD4tQtY",
        "outputId": "dc82e481-3210-447c-f47b-b07b87b6c066"
      },
      "execution_count": 5,
      "outputs": [
        {
          "output_type": "stream",
          "name": "stdout",
          "text": [
            "x^2+2x+1 함수의 x=2지점에서의 미분값은 6.000000087880153 입니다.\n"
          ]
        }
      ]
    },
    {
      "cell_type": "markdown",
      "source": [
        "2번"
      ],
      "metadata": {
        "id": "m4ZcaoPDtFE7"
      }
    },
    {
      "cell_type": "code",
      "execution_count": 6,
      "metadata": {
        "id": "4msMx34GsklT"
      },
      "outputs": [],
      "source": [
        "# 2-1\n",
        "f = open(\"Linear_regression.txt\",'r') # linear_regression.txt 파일을 읽기 전용으로 open\n",
        "lines = f.readlines() # 모든 라인의 데이터를 load\n",
        "x_data = [] # hours\n",
        "y_data = [] # dolls\n",
        "\n",
        "for line in lines:\n",
        "    line_data = line.split(' ') # split 명령어 안에 있는 string 데이터로 데이터를 나누어 리스트형태로 변환하는 함수\n",
        "    x_data.append(line_data[1])\n",
        "    y_data.append(line_data[2].strip()) # strip() : \\n 제거\n",
        "f.close()\n"
      ]
    },
    {
      "cell_type": "code",
      "source": [
        "# 2-2\n",
        "import numpy as np\n",
        "\n",
        "lr = 0.01  \n",
        "\n",
        "# 선형 회귀 함수\n",
        "def linear_regression(ep):\n",
        "  a, b = 0, 0 # 파라미터들의 초기값\n",
        "  n = len(x_data)\n",
        "\n",
        "  for i in range(ep):\n",
        "    pred = a*x_data + b # 예측선\n",
        "    loss = np.sum((pred - y_data) ** 2) / n # 오차 (최소제곱법)\n",
        "\n",
        "    # 최소제곱오차 미분들의 합\n",
        "    gradient_a = np.sum((pred - y_data) * 2 * x_data) / n\n",
        "    gradient_b = np.sum((pred - y_data) * 2) / n\n",
        "\n",
        "    # 파라미터 업데이트\n",
        "    a = a - lr*gradient_a\n",
        "    b = b - lr*gradient_b\n",
        "\n",
        "    # print('pred = ', a * x_data + b) \n",
        "\n",
        "  return (a, b) # 파라미터 반환\n",
        "\n",
        " \n",
        "\n",
        "x_data = list(map(float, x_data))\n",
        "x_data = np.array(x_data)\n",
        "y_data = list(map(int, y_data))\n",
        "y_data = np.array(y_data)\n",
        "\n",
        "w = linear_regression(1000)\n",
        "\n",
        "print(\"=== Parameter ===\")\n",
        "print(\"Weight : \", w[0])\n",
        "print(\"Bias : \", w[1])"
      ],
      "metadata": {
        "colab": {
          "base_uri": "https://localhost:8080/"
        },
        "id": "mm2Qnwums-ol",
        "outputId": "839de00d-991b-45dd-eba4-8f24ad9ee121"
      },
      "execution_count": 7,
      "outputs": [
        {
          "output_type": "stream",
          "name": "stdout",
          "text": [
            "=== Parameter ===\n",
            "Weight :  5.190030070233077\n",
            "Bias :  -0.6674161578618184\n"
          ]
        }
      ]
    },
    {
      "cell_type": "code",
      "source": [
        "# 2-3\n",
        "\n",
        "from matplotlib import pyplot as plt\n",
        "\n",
        "# 선형 모델 및 학습 데이터 시각화\n",
        "y_pred = w[0] * x_data + w[1]\n",
        "plt.plot(x_data, y_data, 'ro')\n",
        "plt.plot([min(x_data), max(x_data)], [min(y_pred), max(y_pred)])\n",
        "plt.xlabel('height')\n",
        "plt.ylabel('weight')\n",
        "plt.legend(['Samples', 'Linear regression'])\n",
        "plt.show() "
      ],
      "metadata": {
        "colab": {
          "base_uri": "https://localhost:8080/",
          "height": 449
        },
        "id": "p5RxfGSNdthz",
        "outputId": "5dc4179e-64b1-4bbb-c3f5-0746e9819eb3"
      },
      "execution_count": 8,
      "outputs": [
        {
          "output_type": "display_data",
          "data": {
            "text/plain": [
              "<Figure size 640x480 with 1 Axes>"
            ],
            "image/png": "[encoded data removed]"
          },
          "metadata": {}
        }
      ]
    },
    {
      "cell_type": "code",
      "source": [
        "# 2-4\n",
        "\n",
        "x = 7.3 # 테스트 데이터\n",
        "y = w[0] * x + w[1] # 예측\n",
        "print(\"학습 모델에 의해 예측한\", x ,\"시간 작업하였을 때 완성된 인형은\", y, \"개입니다.\")"
      ],
      "metadata": {
        "colab": {
          "base_uri": "https://localhost:8080/"
        },
        "id": "L1ZnmI65bC2p",
        "outputId": "8c234fda-37a5-4d43-834c-cb8a13fbf58b"
      },
      "execution_count": 9,
      "outputs": [
        {
          "output_type": "stream",
          "name": "stdout",
          "text": [
            "학습 모델에 의해 예측한 7.3 시간 작업하였을 때 완성된 인형은 37.21980335483965 개입니다.\n"
          ]
        }
      ]
    },
    {
      "cell_type": "markdown",
      "source": [
        "3번"
      ],
      "metadata": {
        "id": "GRr8Qrv6d0oq"
      }
    },
    {
      "cell_type": "code",
      "source": [
        "# 3-1\n",
        "\n",
        "f = open(\"Linear_classification.txt\",'r') # linear_regression.txt 파일을 읽기 전용으로 open\n",
        "lines = f.readlines() # 모든 라인의 데이터를 load\n",
        "x = [] # s 용량\n",
        "y = [] # label (+1 -> 실험 성공, -1 -> 실험 실패)\n",
        "\n",
        "for line in lines:\n",
        "    line_data = line.split(' ') # split 명령어 안에 있는 string 데이터로 데이터를 나누어 리스트형태로 변환하는 함수\n",
        "    x.append([line_data[1], line_data[2]])\n",
        "    y.append(line_data[3].strip()) # strip() : \\n 제거\n",
        "f.close()"
      ],
      "metadata": {
        "id": "x21ERUS3jsbD"
      },
      "execution_count": 10,
      "outputs": []
    },
    {
      "cell_type": "code",
      "source": [
        "# 3-2\n",
        "\n",
        "import numpy as np\n",
        "\n",
        "lr = 0.01\n",
        "\n",
        "def linear_classification(ep):\n",
        "  # prediction : y = w[0]x1 + w[1]x2 + b\n",
        "  \n",
        "  n = len(y)\n",
        "  # 파라미터 0으로 초기화\n",
        "  w = np.zeros(2)\n",
        "  b = 0\n",
        "\n",
        "  for i in range(ep):\n",
        "    pred = np.dot(x, w) + b\n",
        "    # pred 계산값이 0보다 크면 1(성공)로 설정, 0보다 작으면 -1(실패)로 설정\n",
        "    pred = np.where(pred > 0, 1, -1)\n",
        "\n",
        "    # dL/dw = 2*(pred-y)*x, dL/db = 2*(pred-y)*1\n",
        "    gradient_w = (np.dot(x.T, (pred - y))) * (2/n)\n",
        "    gradient_b = (np.sum(pred - y)) * (2/n)\n",
        "\n",
        "    # 파라미터 업데이트\n",
        "    w -= lr * gradient_w\n",
        "    b -= lr * gradient_b\n",
        "\n",
        "  return pred, w, b # 분류 예측 결과, 파라미터 반환\n",
        "\n",
        "\n",
        "x = [[int(num) for num in inner_lst] for inner_lst in x]\n",
        "x = np.array(x)\n",
        "y = list(map(int, y))\n",
        "y = np.array(y)\n",
        "\n",
        "y_pred, W, B = linear_classification(110)\n",
        "\n",
        "print(\"=== Parameter ===\")\n",
        "print(\"Weight : \", W[0], \" \", W[1])\n",
        "print(\"Bias : \", B)"
      ],
      "metadata": {
        "colab": {
          "base_uri": "https://localhost:8080/"
        },
        "id": "2mzF-Duud4p_",
        "outputId": "90225138-add7-4123-9b14-ca2abbb41723"
      },
      "execution_count": 11,
      "outputs": [
        {
          "output_type": "stream",
          "name": "stdout",
          "text": [
            "=== Parameter ===\n",
            "Weight :  -0.3159999999999996   0.3960000000000013\n",
            "Bias :  0.3720000000000001\n"
          ]
        }
      ]
    },
    {
      "cell_type": "code",
      "source": [
        "# 3-3\n",
        "\n",
        "from mpl_toolkits.mplot3d import Axes3D\n",
        "import matplotlib.pyplot as plt\n",
        "from matplotlib import cm\n",
        "import numpy as np\n",
        "\n",
        "# 결과 데이터 시각화\n",
        "fig = plt.figure()\n",
        "ax = fig.add_subplot(111, projection='3d')\n",
        "\n",
        "x1 = []\n",
        "y1 = []\n",
        "z1 = []\n",
        "\n",
        "x_1 = []\n",
        "y_1 = []\n",
        "z_1 = []\n",
        "\n",
        "for i in range(len(y_pred)):\n",
        "  # 예측값이 1(실험성공) -> x1, y1, z1에 추가\n",
        "  if y_pred[i] > 0:\n",
        "    x1.append(x[i][0])\n",
        "    y1.append(x[i][1])\n",
        "    z1.append(1)\n",
        "  # 예측값이 0(실험실패) -> x_1, y_1, z_1에 추가\n",
        "  else:\n",
        "    x_1.append(x[i][0])\n",
        "    y_1.append(x[i][1])\n",
        "    z_1.append(-1)\n",
        "\n",
        "\n",
        "X = np.arange(-0.5, 1.5, 0.1)*100\n",
        "Y = np.arange(-0.5, 1.5, 0.1)*100\n",
        "X, Y = np.meshgrid(X, Y)\n",
        "# Z = (float(-0.027) * Y) + (float(0.021) * X) + float(0.599) # 교재 경사하강법\n",
        "Z = (float(W[0]) * Y) + (float(W[1]) * X) + float(B) \n",
        "\n",
        "ax.plot(x1, y1, z1, linestyle=\"none\", marker=\"o\", mfc=\"none\", markeredgecolor=\"g\") #샘플 출력\n",
        "ax.plot(x_1, y_1, z_1, linestyle=\"none\", marker=\"o\", mfc=\"none\", markeredgecolor=\"b\") #샘플 출력\n",
        "ax.plot_surface(X, Y, Z, rstride=4, cstride=4, alpha=0.4, cmap=cm.Blues) # 평면 출력\n",
        "ax.plot([-50, 100], [-16.7037, 99.9629], [0,0],'r-') # 선 출력\n",
        "\n",
        "plt.show()"
      ],
      "metadata": {
        "colab": {
          "base_uri": "https://localhost:8080/",
          "height": 408
        },
        "id": "_IY4bGa91Nel",
        "outputId": "fa8b72fd-a0bf-48c1-eaa1-96eeee348f67"
      },
      "execution_count": 12,
      "outputs": [
        {
          "output_type": "display_data",
          "data": {
            "text/plain": [
              "<Figure size 640x480 with 1 Axes>"
            ],
            "image/png": "[encoded data removed]"
          },
          "metadata": {}
        }
      ]
    },
    {
      "cell_type": "code",
      "source": [
        "# 3-4\n",
        "\n",
        "pred = 47*W[0] + 29*W[1] + B\n",
        "pred = np.where(pred > 0, 1, -1)\n",
        "\n",
        "if pred > 0: # 예측값(pred) == 1 -> 실험 성공\n",
        "  print(\"입력한 실험은 학습 모델에 의해 실험 성공으로 판단됩니다.\")\n",
        "else: # 예측값(pred) == 0 -> 실험 실패\n",
        "  print(\"입력한 실험은 학습 모델에 의해 실험 실패로 판단됩니다.\")"
      ],
      "metadata": {
        "colab": {
          "base_uri": "https://localhost:8080/"
        },
        "id": "L_LK92ab3bkU",
        "outputId": "0aa598fe-7d6e-4e4c-f5e1-36f671987783"
      },
      "execution_count": 13,
      "outputs": [
        {
          "output_type": "stream",
          "name": "stdout",
          "text": [
            "입력한 실험은 학습 모델에 의해 실험 실패로 판단됩니다.\n"
          ]
        }
      ]
    },
    {
      "cell_type": "markdown",
      "source": [
        "4번"
      ],
      "metadata": {
        "id": "VckDMf7Q2Dkb"
      }
    },
    {
      "cell_type": "code",
      "source": [
        "# 4-1\n",
        "\n",
        "import numpy as np\n",
        "import pandas as pd\n",
        "import math\n",
        "from collections import Counter\n",
        "\n",
        "# 엔트로피 구하는 함수\n",
        "def entropy(s):\n",
        "    counts = np.bincount(s)\n",
        "    percentages = counts / len(s)\n",
        "    \n",
        "    entropy = 0 # 엔트로피 초기값은 0\n",
        "    for pct in percentages:\n",
        "      # log의 진수 -> 0보다 커야함\n",
        "      if pct > 0:\n",
        "          entropy += pct * np.log2(pct) # 엔트로피 계산\n",
        "    return -entropy\n",
        "\n",
        "# 정보획득량 구하는 함수\n",
        "def information_gain(parent, left_child, right_child):\n",
        "    num_left = len(left_child) / len(parent)\n",
        "    num_right = len(right_child) / len(parent)\n",
        "    \n",
        "    # 정보획득량\n",
        "    gain = entropy(parent) - (num_left * entropy(left_child) + num_right * entropy(right_child))\n",
        "    return gain\n",
        "\n",
        "# 현재 노드의 왼쪽과 오른쪽 자식 트리를 나눠주는 함수\n",
        "def LR_split(data, idx):\n",
        "  l = []\n",
        "  r = []\n",
        "\n",
        "  data = data.tolist()\n",
        "  for i in range(len(data)):\n",
        "    if data[i][idx] == 1: # 값이 긍정(1)이면 왼쪽 자식 트리로\n",
        "      l.append(data[i])\n",
        "    else: # 값이 부정(0)이면 오른쪽 자식 트리로\n",
        "      r.append(data[i])\n",
        "  return np.array(l), np.array(r) # 자식 트리들 반환"
      ],
      "metadata": {
        "id": "5CTzUC2whi3L"
      },
      "execution_count": 14,
      "outputs": []
    },
    {
      "cell_type": "code",
      "source": [
        "# 인자로 받은 데이터를 통해 결정트리를 만들어 내는 함수\n",
        "def build_tree(data):\n",
        "    target = data[:, -1]\n",
        "    unique_targets = np.unique(target)\n",
        "    \n",
        "    # 리프 노드인 경우\n",
        "    if len(unique_targets) == 1:\n",
        "        return unique_targets[0]\n",
        "    \n",
        "    # 가장 좋은 특성을 찾음\n",
        "    best_gain = 0\n",
        "    best_feature_idx = None\n",
        "    for i in range(data.shape[1] - 1):\n",
        "        parent_entropy = entropy(target)\n",
        "        left_data, right_data = LR_split(data, i)\n",
        "        if len(left_data) == 0 or len(right_data) == 0:\n",
        "            continue\n",
        "        gain = information_gain(target, left_data[:, -1], right_data[:, -1])\n",
        "        if gain > best_gain:\n",
        "            best_gain = gain\n",
        "            best_feature_idx = i\n",
        "    \n",
        "    # 가장 좋은 특성을 이용하여 데이터를 나눔\n",
        "    left_data, right_data = LR_split(data, best_feature_idx)\n",
        "    if len(left_data) == 0 or len(right_data) == 0:\n",
        "        return Counter(target).most_common(1)[0][0]\n",
        "    left_subtree = build_tree(left_data)\n",
        "    right_subtree = build_tree(right_data)\n",
        "    \n",
        "    # 노드 구성 : 현재 노드가 어떤 특징인지, 현재 노드의 왼오 자식트리\n",
        "    node = {}\n",
        "    node['feature'] = str(best_feature_idx)\n",
        "    node['left'] = left_subtree\n",
        "    node['right'] = right_subtree\n",
        "\n",
        "    # 노드를 구성하여 반환\n",
        "    return node"
      ],
      "metadata": {
        "id": "AnBPtKDshtqy"
      },
      "execution_count": 15,
      "outputs": []
    },
    {
      "cell_type": "code",
      "source": [
        "pd_data = pd.read_csv('train_data.csv') # train_data.csv 파일을 pandas DataFrame 으로 읽어오기\n",
        "features = pd_data.iloc[:, :-1] # 4 가지 특징에 대해 데이터 선택\n",
        "target = pd_data.iloc[:, -1:] # 클래스 부분만 선택\n",
        "target = target.to_numpy()\n",
        "target = target.reshape(-1)\n",
        "\n",
        "df = pd.DataFrame([])\n",
        "\n",
        "for i in range(len(target)):\n",
        "  df = pd.concat([df, pd_data.iloc[i:i+1, :]])\n",
        "\n",
        "# 학습할 데이터 즉, 트리를 구성하기 위한 데이터인 train을 전처리\n",
        "# train 데이터는 요소들의 type이 int인 넘파이 배열\n",
        "train = df.to_numpy()\n",
        "\n",
        "for i in range(len(target)):\n",
        "  if train[i][4] == 'Dog':\n",
        "    train[i][4] = 1\n",
        "  else:\n",
        "    train[i][4] = 0\n",
        "train = train.astype(np.int64)\n",
        "\n",
        "tree = build_tree(train)\n",
        "print(tree)"
      ],
      "metadata": {
        "colab": {
          "base_uri": "https://localhost:8080/"
        },
        "id": "dDdRJgnChwsq",
        "outputId": "bb6c83c8-61be-484c-a154-f08d4376d5f9"
      },
      "execution_count": 16,
      "outputs": [
        {
          "output_type": "stream",
          "name": "stdout",
          "text": [
            "{'feature': '0', 'left': {'feature': '2', 'left': {'feature': '1', 'left': 1, 'right': 0}, 'right': 1}, 'right': {'feature': '3', 'left': 0, 'right': {'feature': '1', 'left': 1, 'right': 0}}}\n"
          ]
        }
      ]
    },
    {
      "cell_type": "code",
      "source": [
        "# 4-2\n",
        "\n",
        "pd_data = pd.read_csv('test_data.csv') # train_data.csv 파일을 pandas DataFrame 으로 읽어오기\n",
        "\n",
        "df = pd.DataFrame([])\n",
        "\n",
        "for i in range(10):\n",
        "  df = pd.concat([df, pd_data.iloc[i:i+1, :]])\n",
        "\n",
        "# test data 전처리\n",
        "test = df.to_numpy()\n",
        "\n",
        "for i in range(10):\n",
        "  if test[i][4] == 'Dog':\n",
        "    test[i][4] = 1\n",
        "  else:\n",
        "    test[i][4] = 0\n",
        "test = test.astype(np.int64)"
      ],
      "metadata": {
        "id": "s-nAiuYPiG6Z"
      },
      "execution_count": 17,
      "outputs": []
    },
    {
      "cell_type": "code",
      "source": [
        "# 구해진 트리를 토대로 한 예측 함수\n",
        "def predict(x, diction):\n",
        "  \n",
        "  # 현재 노드의 타입이 딕셔너리가 아니면 리프 노드\n",
        "  # tree의 리프 노드에 개인지 고양이인지 저장됨\n",
        "  if type(diction) != dict:\n",
        "    return diction\n",
        "  else:\n",
        "    idx = int(diction['feature']) # 현재 노드가 어떤 피쳐인지\n",
        "    if x[idx] == 1: # 1이면 왼쪽으로\n",
        "      return predict(x, diction['left'])\n",
        "    else: # 0이면 오른쪽으로\n",
        "      return predict(x, diction['right'])"
      ],
      "metadata": {
        "id": "klS9dkobiO45"
      },
      "execution_count": 18,
      "outputs": []
    },
    {
      "cell_type": "code",
      "source": [
        "np_data = pd_data.to_numpy()\n",
        "# 10개의 test data 분석 결과 출력\n",
        "for i in range(10):\n",
        "  if predict(test[i], tree) == 1: # 1 -> 개\n",
        "    print(\"Test #\", i, \" \", np_data[i], \" -> Dog\")\n",
        "  else: # 0 -> 고양이\n",
        "    print(\"Test #\", i, \" \", np_data[i], \" -> Cat\")"
      ],
      "metadata": {
        "colab": {
          "base_uri": "https://localhost:8080/"
        },
        "id": "cIwthPl6iVqY",
        "outputId": "2555300e-ca9e-458d-fe67-4d5ebc9b57a6"
      },
      "execution_count": 19,
      "outputs": [
        {
          "output_type": "stream",
          "name": "stdout",
          "text": [
            "Test # 0   [1 1 0 0 'Dog']  -> Dog\n",
            "Test # 1   [0 0 1 1 'Cat']  -> Cat\n",
            "Test # 2   [1 1 0 0 'Dog']  -> Dog\n",
            "Test # 3   [0 0 1 1 'Cat']  -> Cat\n",
            "Test # 4   [1 1 0 1 'Dog']  -> Dog\n",
            "Test # 5   [1 1 1 0 'Dog']  -> Dog\n",
            "Test # 6   [1 0 1 1 'Cat']  -> Cat\n",
            "Test # 7   [1 0 0 1 'Dog']  -> Dog\n",
            "Test # 8   [0 1 1 1 'Cat']  -> Cat\n",
            "Test # 9   [1 1 1 0 'Dog']  -> Dog\n"
          ]
        }
      ]
    }
  ]
}